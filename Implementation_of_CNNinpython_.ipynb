{
  "nbformat": 4,
  "nbformat_minor": 0,
  "metadata": {
    "colab": {
      "name": " Implementation_of_CNNinpython .ipynb",
      "provenance": [],
      "authorship_tag": "ABX9TyNLBhsrejL56Bz5ESlPmNS4",
      "include_colab_link": true
    },
    "kernelspec": {
      "name": "python3",
      "display_name": "Python 3"
    },
    "language_info": {
      "name": "python"
    }
  },
  "cells": [
    {
      "cell_type": "markdown",
      "metadata": {
        "id": "view-in-github",
        "colab_type": "text"
      },
      "source": [
        "<a href=\"https://colab.research.google.com/github/irene06/Implementation_of_CNNinpython/blob/main/Implementation_of_CNNinpython_.ipynb\" target=\"_parent\"><img src=\"https://colab.research.google.com/assets/colab-badge.svg\" alt=\"Open In Colab\"/></a>"
      ]
    },
    {
      "cell_type": "code",
      "execution_count": 19,
      "metadata": {
        "colab": {
          "base_uri": "https://localhost:8080/"
        },
        "id": "uU-tiRclZISD",
        "outputId": "732be4d0-8344-4906-9554-884ec6579db9"
      },
      "outputs": [
        {
          "output_type": "stream",
          "name": "stdout",
          "text": [
            "Drive already mounted at /content/drive; to attempt to forcibly remount, call drive.mount(\"/content/drive\", force_remount=True).\n"
          ]
        }
      ],
      "source": [
        "from google.colab import drive\n",
        "drive.mount('/content/drive')"
      ]
    },
    {
      "cell_type": "code",
      "source": [
        "import numpy as np\n",
        "import pandas as pd\n",
        "import matplotlib.pyplot as plt\n",
        "import tensorflow as tf"
      ],
      "metadata": {
        "id": "WvB8kzSRa6wN"
      },
      "execution_count": 20,
      "outputs": []
    },
    {
      "cell_type": "code",
      "source": [
        "from tensorflow.keras.datasets import mnist\n",
        "from tensorflow.keras.models import Sequential\n",
        "from tensorflow.keras.layers import Conv2D\n",
        "from tensorflow.keras.layers import MaxPool2D\n",
        "from tensorflow.keras.layers import Flatten\n",
        "from tensorflow.keras.layers import Dropout\n",
        "from tensorflow.keras.layers import Dense"
      ],
      "metadata": {
        "id": "ewYF-0pIZp9P"
      },
      "execution_count": 21,
      "outputs": []
    },
    {
      "cell_type": "code",
      "source": [
        "(X_train,y_train),(X_test,y_test)= mnist.load_data()\n"
      ],
      "metadata": {
        "id": "B14t7zTBa57w"
      },
      "execution_count": 22,
      "outputs": []
    },
    {
      "cell_type": "code",
      "source": [
        "X_train = X_train.reshape((X_train.shape[0], X_train.shape[1], X_train.shape[2], 1))"
      ],
      "metadata": {
        "id": "5IMz_lB9c_gq"
      },
      "execution_count": 26,
      "outputs": []
    },
    {
      "cell_type": "code",
      "source": [
        "X_test = X_test.reshape((X_test.shape[0],X_test.shape[1],X_test.shape[2],1))"
      ],
      "metadata": {
        "id": "2aAQdaoudDPl"
      },
      "execution_count": 27,
      "outputs": []
    },
    {
      "cell_type": "code",
      "source": [
        "print(X_train.shape)"
      ],
      "metadata": {
        "colab": {
          "base_uri": "https://localhost:8080/"
        },
        "id": "WdRh1HdLdH7s",
        "outputId": "fa745cf1-c6e8-4eae-a2dd-4685bb2fb0c8"
      },
      "execution_count": 29,
      "outputs": [
        {
          "output_type": "stream",
          "name": "stdout",
          "text": [
            "(60000, 28, 28, 1)\n"
          ]
        }
      ]
    },
    {
      "cell_type": "code",
      "source": [
        "print(X_test.shape)"
      ],
      "metadata": {
        "colab": {
          "base_uri": "https://localhost:8080/"
        },
        "id": "f-5zdOw8dMTs",
        "outputId": "f0a77272-24d0-45c3-ff5c-bd36567dcf55"
      },
      "execution_count": 30,
      "outputs": [
        {
          "output_type": "stream",
          "name": "stdout",
          "text": [
            "(10000, 28, 28, 1)\n"
          ]
        }
      ]
    },
    {
      "cell_type": "code",
      "source": [
        "X_train=X_train/255"
      ],
      "metadata": {
        "id": "92zt1kuCdNS6"
      },
      "execution_count": 31,
      "outputs": []
    },
    {
      "cell_type": "code",
      "source": [
        "X_test=X_test/255"
      ],
      "metadata": {
        "id": "uvUqFmkZdP2f"
      },
      "execution_count": 32,
      "outputs": []
    },
    {
      "cell_type": "code",
      "source": [
        "print(X_train)\n",
        "print(X_test)"
      ],
      "metadata": {
        "colab": {
          "base_uri": "https://localhost:8080/"
        },
        "id": "hn-rIQAidSHR",
        "outputId": "c7ea4bf4-cdb7-41ae-c394-d86e8d1c25a7"
      },
      "execution_count": 34,
      "outputs": [
        {
          "output_type": "stream",
          "name": "stdout",
          "text": [
            "[[[[0.]\n",
            "   [0.]\n",
            "   [0.]\n",
            "   ...\n",
            "   [0.]\n",
            "   [0.]\n",
            "   [0.]]\n",
            "\n",
            "  [[0.]\n",
            "   [0.]\n",
            "   [0.]\n",
            "   ...\n",
            "   [0.]\n",
            "   [0.]\n",
            "   [0.]]\n",
            "\n",
            "  [[0.]\n",
            "   [0.]\n",
            "   [0.]\n",
            "   ...\n",
            "   [0.]\n",
            "   [0.]\n",
            "   [0.]]\n",
            "\n",
            "  ...\n",
            "\n",
            "  [[0.]\n",
            "   [0.]\n",
            "   [0.]\n",
            "   ...\n",
            "   [0.]\n",
            "   [0.]\n",
            "   [0.]]\n",
            "\n",
            "  [[0.]\n",
            "   [0.]\n",
            "   [0.]\n",
            "   ...\n",
            "   [0.]\n",
            "   [0.]\n",
            "   [0.]]\n",
            "\n",
            "  [[0.]\n",
            "   [0.]\n",
            "   [0.]\n",
            "   ...\n",
            "   [0.]\n",
            "   [0.]\n",
            "   [0.]]]\n",
            "\n",
            "\n",
            " [[[0.]\n",
            "   [0.]\n",
            "   [0.]\n",
            "   ...\n",
            "   [0.]\n",
            "   [0.]\n",
            "   [0.]]\n",
            "\n",
            "  [[0.]\n",
            "   [0.]\n",
            "   [0.]\n",
            "   ...\n",
            "   [0.]\n",
            "   [0.]\n",
            "   [0.]]\n",
            "\n",
            "  [[0.]\n",
            "   [0.]\n",
            "   [0.]\n",
            "   ...\n",
            "   [0.]\n",
            "   [0.]\n",
            "   [0.]]\n",
            "\n",
            "  ...\n",
            "\n",
            "  [[0.]\n",
            "   [0.]\n",
            "   [0.]\n",
            "   ...\n",
            "   [0.]\n",
            "   [0.]\n",
            "   [0.]]\n",
            "\n",
            "  [[0.]\n",
            "   [0.]\n",
            "   [0.]\n",
            "   ...\n",
            "   [0.]\n",
            "   [0.]\n",
            "   [0.]]\n",
            "\n",
            "  [[0.]\n",
            "   [0.]\n",
            "   [0.]\n",
            "   ...\n",
            "   [0.]\n",
            "   [0.]\n",
            "   [0.]]]\n",
            "\n",
            "\n",
            " [[[0.]\n",
            "   [0.]\n",
            "   [0.]\n",
            "   ...\n",
            "   [0.]\n",
            "   [0.]\n",
            "   [0.]]\n",
            "\n",
            "  [[0.]\n",
            "   [0.]\n",
            "   [0.]\n",
            "   ...\n",
            "   [0.]\n",
            "   [0.]\n",
            "   [0.]]\n",
            "\n",
            "  [[0.]\n",
            "   [0.]\n",
            "   [0.]\n",
            "   ...\n",
            "   [0.]\n",
            "   [0.]\n",
            "   [0.]]\n",
            "\n",
            "  ...\n",
            "\n",
            "  [[0.]\n",
            "   [0.]\n",
            "   [0.]\n",
            "   ...\n",
            "   [0.]\n",
            "   [0.]\n",
            "   [0.]]\n",
            "\n",
            "  [[0.]\n",
            "   [0.]\n",
            "   [0.]\n",
            "   ...\n",
            "   [0.]\n",
            "   [0.]\n",
            "   [0.]]\n",
            "\n",
            "  [[0.]\n",
            "   [0.]\n",
            "   [0.]\n",
            "   ...\n",
            "   [0.]\n",
            "   [0.]\n",
            "   [0.]]]\n",
            "\n",
            "\n",
            " ...\n",
            "\n",
            "\n",
            " [[[0.]\n",
            "   [0.]\n",
            "   [0.]\n",
            "   ...\n",
            "   [0.]\n",
            "   [0.]\n",
            "   [0.]]\n",
            "\n",
            "  [[0.]\n",
            "   [0.]\n",
            "   [0.]\n",
            "   ...\n",
            "   [0.]\n",
            "   [0.]\n",
            "   [0.]]\n",
            "\n",
            "  [[0.]\n",
            "   [0.]\n",
            "   [0.]\n",
            "   ...\n",
            "   [0.]\n",
            "   [0.]\n",
            "   [0.]]\n",
            "\n",
            "  ...\n",
            "\n",
            "  [[0.]\n",
            "   [0.]\n",
            "   [0.]\n",
            "   ...\n",
            "   [0.]\n",
            "   [0.]\n",
            "   [0.]]\n",
            "\n",
            "  [[0.]\n",
            "   [0.]\n",
            "   [0.]\n",
            "   ...\n",
            "   [0.]\n",
            "   [0.]\n",
            "   [0.]]\n",
            "\n",
            "  [[0.]\n",
            "   [0.]\n",
            "   [0.]\n",
            "   ...\n",
            "   [0.]\n",
            "   [0.]\n",
            "   [0.]]]\n",
            "\n",
            "\n",
            " [[[0.]\n",
            "   [0.]\n",
            "   [0.]\n",
            "   ...\n",
            "   [0.]\n",
            "   [0.]\n",
            "   [0.]]\n",
            "\n",
            "  [[0.]\n",
            "   [0.]\n",
            "   [0.]\n",
            "   ...\n",
            "   [0.]\n",
            "   [0.]\n",
            "   [0.]]\n",
            "\n",
            "  [[0.]\n",
            "   [0.]\n",
            "   [0.]\n",
            "   ...\n",
            "   [0.]\n",
            "   [0.]\n",
            "   [0.]]\n",
            "\n",
            "  ...\n",
            "\n",
            "  [[0.]\n",
            "   [0.]\n",
            "   [0.]\n",
            "   ...\n",
            "   [0.]\n",
            "   [0.]\n",
            "   [0.]]\n",
            "\n",
            "  [[0.]\n",
            "   [0.]\n",
            "   [0.]\n",
            "   ...\n",
            "   [0.]\n",
            "   [0.]\n",
            "   [0.]]\n",
            "\n",
            "  [[0.]\n",
            "   [0.]\n",
            "   [0.]\n",
            "   ...\n",
            "   [0.]\n",
            "   [0.]\n",
            "   [0.]]]\n",
            "\n",
            "\n",
            " [[[0.]\n",
            "   [0.]\n",
            "   [0.]\n",
            "   ...\n",
            "   [0.]\n",
            "   [0.]\n",
            "   [0.]]\n",
            "\n",
            "  [[0.]\n",
            "   [0.]\n",
            "   [0.]\n",
            "   ...\n",
            "   [0.]\n",
            "   [0.]\n",
            "   [0.]]\n",
            "\n",
            "  [[0.]\n",
            "   [0.]\n",
            "   [0.]\n",
            "   ...\n",
            "   [0.]\n",
            "   [0.]\n",
            "   [0.]]\n",
            "\n",
            "  ...\n",
            "\n",
            "  [[0.]\n",
            "   [0.]\n",
            "   [0.]\n",
            "   ...\n",
            "   [0.]\n",
            "   [0.]\n",
            "   [0.]]\n",
            "\n",
            "  [[0.]\n",
            "   [0.]\n",
            "   [0.]\n",
            "   ...\n",
            "   [0.]\n",
            "   [0.]\n",
            "   [0.]]\n",
            "\n",
            "  [[0.]\n",
            "   [0.]\n",
            "   [0.]\n",
            "   ...\n",
            "   [0.]\n",
            "   [0.]\n",
            "   [0.]]]]\n",
            "[[[[0.]\n",
            "   [0.]\n",
            "   [0.]\n",
            "   ...\n",
            "   [0.]\n",
            "   [0.]\n",
            "   [0.]]\n",
            "\n",
            "  [[0.]\n",
            "   [0.]\n",
            "   [0.]\n",
            "   ...\n",
            "   [0.]\n",
            "   [0.]\n",
            "   [0.]]\n",
            "\n",
            "  [[0.]\n",
            "   [0.]\n",
            "   [0.]\n",
            "   ...\n",
            "   [0.]\n",
            "   [0.]\n",
            "   [0.]]\n",
            "\n",
            "  ...\n",
            "\n",
            "  [[0.]\n",
            "   [0.]\n",
            "   [0.]\n",
            "   ...\n",
            "   [0.]\n",
            "   [0.]\n",
            "   [0.]]\n",
            "\n",
            "  [[0.]\n",
            "   [0.]\n",
            "   [0.]\n",
            "   ...\n",
            "   [0.]\n",
            "   [0.]\n",
            "   [0.]]\n",
            "\n",
            "  [[0.]\n",
            "   [0.]\n",
            "   [0.]\n",
            "   ...\n",
            "   [0.]\n",
            "   [0.]\n",
            "   [0.]]]\n",
            "\n",
            "\n",
            " [[[0.]\n",
            "   [0.]\n",
            "   [0.]\n",
            "   ...\n",
            "   [0.]\n",
            "   [0.]\n",
            "   [0.]]\n",
            "\n",
            "  [[0.]\n",
            "   [0.]\n",
            "   [0.]\n",
            "   ...\n",
            "   [0.]\n",
            "   [0.]\n",
            "   [0.]]\n",
            "\n",
            "  [[0.]\n",
            "   [0.]\n",
            "   [0.]\n",
            "   ...\n",
            "   [0.]\n",
            "   [0.]\n",
            "   [0.]]\n",
            "\n",
            "  ...\n",
            "\n",
            "  [[0.]\n",
            "   [0.]\n",
            "   [0.]\n",
            "   ...\n",
            "   [0.]\n",
            "   [0.]\n",
            "   [0.]]\n",
            "\n",
            "  [[0.]\n",
            "   [0.]\n",
            "   [0.]\n",
            "   ...\n",
            "   [0.]\n",
            "   [0.]\n",
            "   [0.]]\n",
            "\n",
            "  [[0.]\n",
            "   [0.]\n",
            "   [0.]\n",
            "   ...\n",
            "   [0.]\n",
            "   [0.]\n",
            "   [0.]]]\n",
            "\n",
            "\n",
            " [[[0.]\n",
            "   [0.]\n",
            "   [0.]\n",
            "   ...\n",
            "   [0.]\n",
            "   [0.]\n",
            "   [0.]]\n",
            "\n",
            "  [[0.]\n",
            "   [0.]\n",
            "   [0.]\n",
            "   ...\n",
            "   [0.]\n",
            "   [0.]\n",
            "   [0.]]\n",
            "\n",
            "  [[0.]\n",
            "   [0.]\n",
            "   [0.]\n",
            "   ...\n",
            "   [0.]\n",
            "   [0.]\n",
            "   [0.]]\n",
            "\n",
            "  ...\n",
            "\n",
            "  [[0.]\n",
            "   [0.]\n",
            "   [0.]\n",
            "   ...\n",
            "   [0.]\n",
            "   [0.]\n",
            "   [0.]]\n",
            "\n",
            "  [[0.]\n",
            "   [0.]\n",
            "   [0.]\n",
            "   ...\n",
            "   [0.]\n",
            "   [0.]\n",
            "   [0.]]\n",
            "\n",
            "  [[0.]\n",
            "   [0.]\n",
            "   [0.]\n",
            "   ...\n",
            "   [0.]\n",
            "   [0.]\n",
            "   [0.]]]\n",
            "\n",
            "\n",
            " ...\n",
            "\n",
            "\n",
            " [[[0.]\n",
            "   [0.]\n",
            "   [0.]\n",
            "   ...\n",
            "   [0.]\n",
            "   [0.]\n",
            "   [0.]]\n",
            "\n",
            "  [[0.]\n",
            "   [0.]\n",
            "   [0.]\n",
            "   ...\n",
            "   [0.]\n",
            "   [0.]\n",
            "   [0.]]\n",
            "\n",
            "  [[0.]\n",
            "   [0.]\n",
            "   [0.]\n",
            "   ...\n",
            "   [0.]\n",
            "   [0.]\n",
            "   [0.]]\n",
            "\n",
            "  ...\n",
            "\n",
            "  [[0.]\n",
            "   [0.]\n",
            "   [0.]\n",
            "   ...\n",
            "   [0.]\n",
            "   [0.]\n",
            "   [0.]]\n",
            "\n",
            "  [[0.]\n",
            "   [0.]\n",
            "   [0.]\n",
            "   ...\n",
            "   [0.]\n",
            "   [0.]\n",
            "   [0.]]\n",
            "\n",
            "  [[0.]\n",
            "   [0.]\n",
            "   [0.]\n",
            "   ...\n",
            "   [0.]\n",
            "   [0.]\n",
            "   [0.]]]\n",
            "\n",
            "\n",
            " [[[0.]\n",
            "   [0.]\n",
            "   [0.]\n",
            "   ...\n",
            "   [0.]\n",
            "   [0.]\n",
            "   [0.]]\n",
            "\n",
            "  [[0.]\n",
            "   [0.]\n",
            "   [0.]\n",
            "   ...\n",
            "   [0.]\n",
            "   [0.]\n",
            "   [0.]]\n",
            "\n",
            "  [[0.]\n",
            "   [0.]\n",
            "   [0.]\n",
            "   ...\n",
            "   [0.]\n",
            "   [0.]\n",
            "   [0.]]\n",
            "\n",
            "  ...\n",
            "\n",
            "  [[0.]\n",
            "   [0.]\n",
            "   [0.]\n",
            "   ...\n",
            "   [0.]\n",
            "   [0.]\n",
            "   [0.]]\n",
            "\n",
            "  [[0.]\n",
            "   [0.]\n",
            "   [0.]\n",
            "   ...\n",
            "   [0.]\n",
            "   [0.]\n",
            "   [0.]]\n",
            "\n",
            "  [[0.]\n",
            "   [0.]\n",
            "   [0.]\n",
            "   ...\n",
            "   [0.]\n",
            "   [0.]\n",
            "   [0.]]]\n",
            "\n",
            "\n",
            " [[[0.]\n",
            "   [0.]\n",
            "   [0.]\n",
            "   ...\n",
            "   [0.]\n",
            "   [0.]\n",
            "   [0.]]\n",
            "\n",
            "  [[0.]\n",
            "   [0.]\n",
            "   [0.]\n",
            "   ...\n",
            "   [0.]\n",
            "   [0.]\n",
            "   [0.]]\n",
            "\n",
            "  [[0.]\n",
            "   [0.]\n",
            "   [0.]\n",
            "   ...\n",
            "   [0.]\n",
            "   [0.]\n",
            "   [0.]]\n",
            "\n",
            "  ...\n",
            "\n",
            "  [[0.]\n",
            "   [0.]\n",
            "   [0.]\n",
            "   ...\n",
            "   [0.]\n",
            "   [0.]\n",
            "   [0.]]\n",
            "\n",
            "  [[0.]\n",
            "   [0.]\n",
            "   [0.]\n",
            "   ...\n",
            "   [0.]\n",
            "   [0.]\n",
            "   [0.]]\n",
            "\n",
            "  [[0.]\n",
            "   [0.]\n",
            "   [0.]\n",
            "   ...\n",
            "   [0.]\n",
            "   [0.]\n",
            "   [0.]]]]\n"
          ]
        }
      ]
    },
    {
      "cell_type": "code",
      "source": [
        "print(y_train)\n",
        "print(y_test)"
      ],
      "metadata": {
        "colab": {
          "base_uri": "https://localhost:8080/"
        },
        "id": "ArF4zUxjdt5V",
        "outputId": "b1d4c653-99fb-4561-f3bb-adc5a066b03f"
      },
      "execution_count": 35,
      "outputs": [
        {
          "output_type": "stream",
          "name": "stdout",
          "text": [
            "[5 0 4 ... 5 6 8]\n",
            "[7 2 1 ... 4 5 6]\n"
          ]
        }
      ]
    },
    {
      "cell_type": "code",
      "source": [
        "model = Sequential()"
      ],
      "metadata": {
        "id": "AxTSSHrpd4Sp"
      },
      "execution_count": 36,
      "outputs": []
    },
    {
      "cell_type": "code",
      "source": [
        "model.add(Conv2D(32,(3,3),activation='relu',input_shape=(28,28,1)))"
      ],
      "metadata": {
        "id": "8UihO8NaeJQs"
      },
      "execution_count": 37,
      "outputs": []
    },
    {
      "cell_type": "code",
      "source": [
        "model.add(MaxPool2D(2,2))"
      ],
      "metadata": {
        "id": "3mErgAnpebav"
      },
      "execution_count": 38,
      "outputs": []
    },
    {
      "cell_type": "code",
      "source": [
        "model.add(Flatten())\n",
        "model.add(Dense(100,activation='relu'))"
      ],
      "metadata": {
        "id": "xyCRyM7fekZK"
      },
      "execution_count": 39,
      "outputs": []
    },
    {
      "cell_type": "code",
      "source": [
        "#adding output layer\n",
        "model.add(Dense(10,activation='softmax'))"
      ],
      "metadata": {
        "id": "094Fz0QSe1zN"
      },
      "execution_count": 40,
      "outputs": []
    },
    {
      "cell_type": "code",
      "source": [
        "#compiling the model\n",
        "model.compile(loss=\"sparse_categorical_crossentropy\",optimizer='adam',metrics=['accuracy'])"
      ],
      "metadata": {
        "id": "Pynn2DUifGwZ"
      },
      "execution_count": 42,
      "outputs": []
    },
    {
      "cell_type": "code",
      "source": [
        "#fitting the model\n",
        "model.fit(X_train, y_train, epochs=10)"
      ],
      "metadata": {
        "colab": {
          "base_uri": "https://localhost:8080/"
        },
        "id": "nFoxEWbNflrG",
        "outputId": "413e4e72-b8de-4192-e506-d0fe1d559e4d"
      },
      "execution_count": 43,
      "outputs": [
        {
          "output_type": "stream",
          "name": "stdout",
          "text": [
            "Epoch 1/10\n",
            "1875/1875 [==============================] - 38s 20ms/step - loss: 0.1552 - accuracy: 0.9530\n",
            "Epoch 2/10\n",
            "1875/1875 [==============================] - 38s 20ms/step - loss: 0.0550 - accuracy: 0.9828\n",
            "Epoch 3/10\n",
            "1875/1875 [==============================] - 40s 21ms/step - loss: 0.0358 - accuracy: 0.9886\n",
            "Epoch 4/10\n",
            "1875/1875 [==============================] - 39s 21ms/step - loss: 0.0239 - accuracy: 0.9925\n",
            "Epoch 5/10\n",
            "1875/1875 [==============================] - 38s 20ms/step - loss: 0.0163 - accuracy: 0.9951\n",
            "Epoch 6/10\n",
            "1875/1875 [==============================] - 38s 20ms/step - loss: 0.0119 - accuracy: 0.9962\n",
            "Epoch 7/10\n",
            "1875/1875 [==============================] - 38s 20ms/step - loss: 0.0084 - accuracy: 0.9974\n",
            "Epoch 8/10\n",
            "1875/1875 [==============================] - 38s 20ms/step - loss: 0.0088 - accuracy: 0.9970\n",
            "Epoch 9/10\n",
            "1875/1875 [==============================] - 39s 21ms/step - loss: 0.0055 - accuracy: 0.9983\n",
            "Epoch 10/10\n",
            "1875/1875 [==============================] - 38s 20ms/step - loss: 0.0049 - accuracy: 0.9984\n"
          ]
        },
        {
          "output_type": "execute_result",
          "data": {
            "text/plain": [
              "<keras.callbacks.History at 0x7fc06a44f350>"
            ]
          },
          "metadata": {},
          "execution_count": 43
        }
      ]
    },
    {
      "cell_type": "code",
      "source": [
        "#evaluating the model\n",
        "model.evaluate(X_test,y_test)"
      ],
      "metadata": {
        "colab": {
          "base_uri": "https://localhost:8080/"
        },
        "id": "PGJm8BAHgQm5",
        "outputId": "034237d4-bd4c-4f4d-8688-c45d63356d4d"
      },
      "execution_count": 44,
      "outputs": [
        {
          "output_type": "stream",
          "name": "stdout",
          "text": [
            "313/313 [==============================] - 3s 8ms/step - loss: 0.0594 - accuracy: 0.9867\n"
          ]
        },
        {
          "output_type": "execute_result",
          "data": {
            "text/plain": [
              "[0.059425245970487595, 0.9866999983787537]"
            ]
          },
          "metadata": {},
          "execution_count": 44
        }
      ]
    }
  ]
}